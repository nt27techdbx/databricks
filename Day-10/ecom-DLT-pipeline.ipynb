{
 "cells": [
  {
   "cell_type": "code",
   "execution_count": 0,
   "metadata": {
    "application/vnd.databricks.v1+cell": {
     "cellMetadata": {},
     "inputWidgets": {},
     "nuid": "891f9f0a-528c-4cf2-b129-b22a5eed1b92",
     "showTitle": false,
     "tableResultSettingsMap": {},
     "title": ""
    }
   },
   "outputs": [],
   "source": [
    "CREATE OR REFRESH STREAMING TABLE cgi_dev.navaneeth_bronze.sales_bronze\n",
    "AS SELECT * FROM STREAM read_files(\n",
    "  \"/Volumes/cgi_dev/naval/sales\",\n",
    "  format => \"csv\"\n",
    ");\n",
    "\n",
    "CREATE OR REFRESH STREAMING TABLE cgi_dev.navaneeth_bronze.products_bronze\n",
    "AS SELECT * FROM STREAM read_files(\n",
    "  \"/Volumes/cgi_dev/naval/products\",\n",
    "  format => \"csv\"\n",
    ");\n",
    "CREATE OR REFRESH STREAMING TABLE cgi_dev.navaneeth_bronze.customers_bronze\n",
    "AS SELECT * FROM STREAM read_files(\n",
    "  \"/Volumes/cgi_dev/naval/customers\",\n",
    "  format => \"csv\"\n",
    ");"
   ]
  },
  {
   "cell_type": "code",
   "execution_count": 0,
   "metadata": {
    "application/vnd.databricks.v1+cell": {
     "cellMetadata": {},
     "inputWidgets": {},
     "nuid": "273c7222-ed75-42c1-9f52-088cf6beab42",
     "showTitle": false,
     "tableResultSettingsMap": {},
     "title": ""
    }
   },
   "outputs": [],
   "source": [
    "CREATE OR REFRESH STREAMING TABLE cgi_dev.navaneeth_bronze.sales_cleaned(\n",
    "  CONSTRAINT valid_order_id EXPECT (order_id IS NOT NULL) ON VIOLATION DROP ROW\n",
    ")\n",
    "AS\n",
    "SELECT distinct * from stream(cgi_dev.navaneeth_bronze.sales_bronze);\n",
    "\n",
    "CREATE OR REFRESH STREAMING TABLE cgi_dev.navaneeth_bronze.products_cleaned\n",
    "AS\n",
    "SELECT distinct * from stream(cgi_dev.navaneeth_bronze.products_bronze);\n",
    "\n",
    "CREATE OR REFRESH STREAMING TABLE cgi_dev.navaneeth_bronze.customers_cleaned\n",
    "AS\n",
    "SELECT distinct * from stream(cgi_dev.navaneeth_bronze.customers_bronze);"
   ]
  },
  {
   "cell_type": "code",
   "execution_count": 0,
   "metadata": {
    "application/vnd.databricks.v1+cell": {
     "cellMetadata": {},
     "inputWidgets": {},
     "nuid": "73032bf5-9349-4cea-aadc-8c18bbec4588",
     "showTitle": false,
     "tableResultSettingsMap": {},
     "title": ""
    }
   },
   "outputs": [],
   "source": [
    "CREATE OR REFRESH STREAMING TABLE cgi_dev.navaneeth_silver.product_silver;\n",
    "\n",
    "APPLY CHANGES INTO\n",
    "  cgi_dev.navaneeth_silver.product_silver\n",
    "FROM\n",
    "  stream(cgi_dev.navaneeth_bronze.products_cleaned)\n",
    "KEYS\n",
    "  (product_id)\n",
    "APPLY AS DELETE WHEN\n",
    "  operation = \"DELETE\"\n",
    "SEQUENCE BY\n",
    "  seqNum\n",
    "COLUMNS * EXCEPT\n",
    "  (operation, seqNum,_rescued_data)\n",
    "STORED AS\n",
    "  SCD TYPE 1;"
   ]
  },
  {
   "cell_type": "code",
   "execution_count": 0,
   "metadata": {
    "application/vnd.databricks.v1+cell": {
     "cellMetadata": {},
     "inputWidgets": {},
     "nuid": "75711afc-52a7-4183-804e-56a93a4a64af",
     "showTitle": false,
     "tableResultSettingsMap": {},
     "title": ""
    }
   },
   "outputs": [],
   "source": [
    "\n",
    "CREATE OR REFRESH STREAMING TABLE cgi_dev.navaneeth_silver.customers_silver;\n",
    "\n",
    "APPLY CHANGES INTO\n",
    "  cgi_dev.navaneeth_silver.customers_silver\n",
    "FROM\n",
    "  stream(cgi_dev.navaneeth_bronze.customers_cleaned)\n",
    "KEYS\n",
    "  (customer_id)\n",
    "APPLY AS DELETE WHEN\n",
    "  operation = \"DELETE\"\n",
    "SEQUENCE BY\n",
    "  sequenceNum\n",
    "COLUMNS * EXCEPT\n",
    "  (operation, sequenceNum,_rescued_data)\n",
    "STORED AS\n",
    "  SCD TYPE 2;\n"
   ]
  },
  {
   "cell_type": "code",
   "execution_count": 0,
   "metadata": {
    "application/vnd.databricks.v1+cell": {
     "cellMetadata": {},
     "inputWidgets": {},
     "nuid": "71956c4a-e3a6-435d-93bb-42e2f247ed18",
     "showTitle": false,
     "tableResultSettingsMap": {},
     "title": ""
    }
   },
   "outputs": [],
   "source": [
    "create or refresh materialized view cgi_dev.navaneeth_gold.customers_active as\n",
    "select * from cgi_dev.navaneeth_silver.customers_silver where __END_AT is null"
   ]
  },
  {
   "cell_type": "code",
   "execution_count": 0,
   "metadata": {
    "application/vnd.databricks.v1+cell": {
     "cellMetadata": {},
     "inputWidgets": {},
     "nuid": "78d1331d-a704-49b9-b869-c124fbf9fdbf",
     "showTitle": false,
     "tableResultSettingsMap": {},
     "title": ""
    }
   },
   "outputs": [],
   "source": [
    "\n",
    "create or replace materialized view cgi_dev.navaneeth_gold.sales_details as \n",
    "(SELECT \n",
    "    o.order_id,\n",
    "    o.order_date,\n",
    "    o.customer_id,\n",
    "    c.customer_name,\n",
    "    c.customer_email,\n",
    "    c.customer_city,\n",
    "    o.product_id,\n",
    "    p.product_name,\n",
    "    p.product_category,\n",
    "    p.product_price,\n",
    "    o.quantity,\n",
    "    o.discount_amount,\n",
    "    o.total_amount\n",
    "FROM cgi_dev.navaneeth_bronze.sales_cleaned o\n",
    "JOIN cgi_dev.navaneeth_silver.product_silver p\n",
    "  ON o.product_id = p.product_id\n",
    "JOIN (\n",
    "      SELECT DISTINCT customer_id, customer_name, customer_email, customer_city \n",
    "      FROM cgi_dev.navaneeth_gold.customers_active\n",
    "     ) c\n",
    "  ON o.customer_id = c.customer_id)"
   ]
  }
 ],
 "metadata": {
  "application/vnd.databricks.v1+notebook": {
   "computePreferences": null,
   "dashboards": [],
   "environmentMetadata": {
    "base_environment": "",
    "environment_version": "2"
   },
   "inputWidgetPreferences": null,
   "language": "sql",
   "notebookMetadata": {
    "pythonIndentUnit": 4
   },
   "notebookName": "ecom-DLT-pipeline",
   "widgets": {}
  },
  "language_info": {
   "name": "sql"
  }
 },
 "nbformat": 4,
 "nbformat_minor": 0
}
