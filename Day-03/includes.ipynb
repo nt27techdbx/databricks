{
 "cells": [
  {
   "cell_type": "code",
   "execution_count": 0,
   "metadata": {
    "application/vnd.databricks.v1+cell": {
     "cellMetadata": {},
     "inputWidgets": {},
     "nuid": "037875ea-2b1b-4e6a-9629-ba5d7c1aa713",
     "showTitle": true,
     "tableResultSettingsMap": {},
     "title": "Library Imports"
    }
   },
   "outputs": [],
   "source": [
    "from pyspark.sql.functions import *"
   ]
  },
  {
   "cell_type": "code",
   "execution_count": 0,
   "metadata": {
    "application/vnd.databricks.v1+cell": {
     "cellMetadata": {},
     "inputWidgets": {},
     "nuid": "94abc538-fcd7-45a9-aae2-80449e1ba20e",
     "showTitle": true,
     "tableResultSettingsMap": {},
     "title": "Database Schema Initialization"
    }
   },
   "outputs": [],
   "source": [
    "%sql\n",
    "USE CATALOG cgi_dev;\n",
    "\n",
    "CREATE SCHEMA IF NOT EXISTS cgi_dev.navaneeth_bronze;\n",
    "CREATE SCHEMA IF NOT EXISTS cgi_dev.navaneeth_silver;\n",
    "CREATE SCHEMA IF NOT EXISTS cgi_dev.navaneeth_gold;"
   ]
  },
  {
   "cell_type": "code",
   "execution_count": 0,
   "metadata": {
    "application/vnd.databricks.v1+cell": {
     "cellMetadata": {
      "byteLimit": 2048000,
      "rowLimit": 10000
     },
     "inputWidgets": {},
     "nuid": "db751e7d-33c8-4394-937e-2039cb7abaed",
     "showTitle": true,
     "tableResultSettingsMap": {},
     "title": "Input file path definition"
    }
   },
   "outputs": [],
   "source": [
    "input_path = \"/Volumes/cgi_dev/naval/project/\""
   ]
  },
  {
   "cell_type": "code",
   "execution_count": 0,
   "metadata": {
    "application/vnd.databricks.v1+cell": {
     "cellMetadata": {},
     "inputWidgets": {},
     "nuid": "c2097b6f-4d08-4a60-9bc3-b36ee6682b0a",
     "showTitle": true,
     "tableResultSettingsMap": {},
     "title": "Add Ingestion Datetime to DataFrame"
    }
   },
   "outputs": [],
   "source": [
    "def add_ingestion_datetime(df):\n",
    "    df_final = df.withColumn(\"ingestion_datetime\", current_timestamp())\n",
    "    return df_final\n"
   ]
  }
 ],
 "metadata": {
  "application/vnd.databricks.v1+notebook": {
   "computePreferences": null,
   "dashboards": [],
   "environmentMetadata": {
    "base_environment": "",
    "environment_version": "2"
   },
   "inputWidgetPreferences": null,
   "language": "python",
   "notebookMetadata": {
    "pythonIndentUnit": 4
   },
   "notebookName": "includes",
   "widgets": {}
  },
  "language_info": {
   "name": "python"
  }
 },
 "nbformat": 4,
 "nbformat_minor": 0
}
