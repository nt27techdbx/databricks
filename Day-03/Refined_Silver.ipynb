{
 "cells": [
  {
   "cell_type": "code",
   "execution_count": 0,
   "metadata": {
    "application/vnd.databricks.v1+cell": {
     "cellMetadata": {
      "byteLimit": 2048000,
      "rowLimit": 10000
     },
     "inputWidgets": {},
     "nuid": "0044d52a-6f3e-4120-914d-3c28f88467bb",
     "showTitle": true,
     "tableResultSettingsMap": {},
     "title": "Sales - Drop Duplicates, Nulls, and Save Cleaned Data"
    }
   },
   "outputs": [],
   "source": [
    "bronze_tableName = \"cgi_dev.navaneeth_bronze.sales\"\n",
    "silver_tableName = \"cgi_dev.navaneeth_silver.sales\"\n",
    "\n",
    "df = spark.read.table(bronze_tableName)\n",
    "#Drop duplicate records | Drop Null values in all columns |  Drop Ingestion Date Time\n",
    "df= df.dropDuplicates().dropna().drop(\"ingestion_datetime\")\n",
    "df.write.mode(\"overwrite\").saveAsTable(silver_tableName)"
   ]
  },
  {
   "cell_type": "code",
   "execution_count": 0,
   "metadata": {
    "application/vnd.databricks.v1+cell": {
     "cellMetadata": {
      "byteLimit": 2048000,
      "rowLimit": 10000
     },
     "inputWidgets": {},
     "nuid": "a44afcc3-775a-4b3a-be7d-7db2f1918338",
     "showTitle": true,
     "tableResultSettingsMap": {},
     "title": "Customers - Drop Duplicates, Nulls & Cleaned Data"
    }
   },
   "outputs": [],
   "source": [
    "bronze_tableName = \"cgi_dev.navaneeth_bronze.customers\"\n",
    "silver_tableName = \"cgi_dev.navaneeth_silver.customers\"\n",
    "\n",
    "df = spark.read.table(bronze_tableName)\n",
    "#Drop duplicate records | Drop Null values in all columns \n",
    "df= df.dropDuplicates().dropna()\n",
    "df.select(\"customer_id\",\"customer_name\",\"customer_email\",\"customer_city\",\"customer_state\").write.mode(\"overwrite\").saveAsTable(silver_tableName)\n"
   ]
  },
  {
   "cell_type": "code",
   "execution_count": 0,
   "metadata": {
    "application/vnd.databricks.v1+cell": {
     "cellMetadata": {
      "byteLimit": 2048000,
      "rowLimit": 10000
     },
     "inputWidgets": {},
     "nuid": "a4160ec0-a3b2-4981-b0f8-9c1fa57cb299",
     "showTitle": true,
     "tableResultSettingsMap": {},
     "title": "Products- Drop Duplicates, Nulls & Cleaned Data"
    }
   },
   "outputs": [],
   "source": [
    "bronze_tableName = \"cgi_dev.navaneeth_bronze.products\"\n",
    "silver_tableName = \"cgi_dev.navaneeth_silver.products\"\n",
    "\n",
    "df = spark.read.table(bronze_tableName)\n",
    "#Drop duplicate records | Drop Null values in all columns \n",
    "df= df.dropDuplicates().dropna()\n",
    "df.select(\"product_id\",\"product_name\",\"product_category\",\"product_price\").write.mode(\"overwrite\").saveAsTable(silver_tableName)"
   ]
  }
 ],
 "metadata": {
  "application/vnd.databricks.v1+notebook": {
   "computePreferences": null,
   "dashboards": [],
   "environmentMetadata": {
    "base_environment": "",
    "environment_version": "2"
   },
   "inputWidgetPreferences": null,
   "language": "python",
   "notebookMetadata": {
    "mostRecentlyExecutedCommandWithImplicitDF": {
     "commandId": 2775447339680474,
     "dataframes": [
      "_sqldf"
     ]
    },
    "pythonIndentUnit": 4
   },
   "notebookName": "Refined_Silver",
   "widgets": {}
  },
  "language_info": {
   "name": "python"
  }
 },
 "nbformat": 4,
 "nbformat_minor": 0
}
