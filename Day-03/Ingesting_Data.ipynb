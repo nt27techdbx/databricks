{
 "cells": [
  {
   "cell_type": "code",
   "execution_count": 0,
   "metadata": {
    "application/vnd.databricks.v1+cell": {
     "cellMetadata": {
      "byteLimit": 2048000,
      "implicitDf": true,
      "rowLimit": 10000
     },
     "inputWidgets": {},
     "nuid": "9708ec5a-3f04-494c-a31f-cd621a136a17",
     "showTitle": true,
     "tableResultSettingsMap": {},
     "title": "Run External Script from Workspace Path"
    }
   },
   "outputs": [],
   "source": [
    "%run \"./includes\""
   ]
  },
  {
   "cell_type": "code",
   "execution_count": 0,
   "metadata": {
    "application/vnd.databricks.v1+cell": {
     "cellMetadata": {
      "byteLimit": 2048000,
      "rowLimit": 10000
     },
     "inputWidgets": {},
     "nuid": "2437aff5-ed67-4516-9bc0-b86b4bbd193d",
     "showTitle": false,
     "tableResultSettingsMap": {},
     "title": ""
    }
   },
   "outputs": [],
   "source": [
    "#dbutils.widgets.help()"
   ]
  },
  {
   "cell_type": "code",
   "execution_count": 0,
   "metadata": {
    "application/vnd.databricks.v1+cell": {
     "cellMetadata": {
      "byteLimit": 2048000,
      "rowLimit": 10000
     },
     "inputWidgets": {},
     "nuid": "59b7f6f6-fae1-4b73-9f1a-d5176df9fb3c",
     "showTitle": true,
     "tableResultSettingsMap": {},
     "title": "Set Catalog, Schema, and Table Widgets"
    }
   },
   "outputs": [],
   "source": [
    "dbutils.widgets.text(\"catalog\",\"cgi_dev\")\n",
    "dbutils.widgets.text(\"schema\",\"navaneeth_bronze\",\"schema\")\n",
    "dbutils.widgets.text(\"table\",\"sales\",\"table\")"
   ]
  },
  {
   "cell_type": "code",
   "execution_count": 0,
   "metadata": {
    "application/vnd.databricks.v1+cell": {
     "cellMetadata": {
      "byteLimit": 2048000,
      "rowLimit": 10000
     },
     "inputWidgets": {},
     "nuid": "a7174b69-67b6-46fa-ab39-8aefb4c0777c",
     "showTitle": true,
     "tableResultSettingsMap": {},
     "title": "Set Catalog, Schema, and Table Variables"
    }
   },
   "outputs": [],
   "source": [
    "catalog = dbutils.widgets.get(\"catalog\")\n",
    "schema = dbutils.widgets.get(\"schema\")\n",
    "table = dbutils.widgets.get(\"table\")"
   ]
  },
  {
   "cell_type": "code",
   "execution_count": 0,
   "metadata": {
    "application/vnd.databricks.v1+cell": {
     "cellMetadata": {
      "byteLimit": 2048000,
      "rowLimit": 10000
     },
     "inputWidgets": {},
     "nuid": "9925d0b4-de73-415e-904b-4fd2858ea492",
     "showTitle": true,
     "tableResultSettingsMap": {},
     "title": "Save DataFrame to Unity Catalog Table"
    }
   },
   "outputs": [],
   "source": [
    "filePath = f\"{input_path}{table}.csv\"\n",
    "tableFullName = f\"{catalog}.{schema}.{table}\"\n",
    "df = spark.read.csv(filePath, header=True, inferSchema=True)\n",
    "\n",
    "df_with_ingestion_datetime = add_ingestion_datetime(df)\n",
    "df_with_ingestion_datetime.write.mode(\"overwrite\").saveAsTable(tableFullName)\n"
   ]
  }
 ],
 "metadata": {
  "application/vnd.databricks.v1+notebook": {
   "computePreferences": null,
   "dashboards": [],
   "environmentMetadata": {
    "base_environment": "",
    "environment_version": "2"
   },
   "language": "python",
   "notebookMetadata": {
    "mostRecentlyExecutedCommandWithImplicitDF": {
     "commandId": 2775447339679854,
     "dataframes": [
      "_sqldf"
     ]
    },
    "pythonIndentUnit": 4
   },
   "notebookName": "Ingesting_Data",
   "widgets": {
    "catalog": {
     "currentValue": "cgi_dev",
     "nuid": "9ba5d812-ec63-458c-8bba-dc8440cff366",
     "typedWidgetInfo": {
      "autoCreated": false,
      "defaultValue": "cgi_dev",
      "label": "",
      "name": "catalog",
      "options": {
       "widgetDisplayType": "Text",
       "validationRegex": null
      },
      "parameterDataType": "String"
     },
     "widgetInfo": {
      "widgetType": "text",
      "defaultValue": "cgi_dev",
      "label": "",
      "name": "catalog",
      "options": {
       "widgetType": "text",
       "autoCreated": false,
       "validationRegex": null
      }
     }
    },
    "schema": {
     "currentValue": "navaneeth_bronze",
     "nuid": "5ae17a45-7776-45f1-9ca1-750f5ad03158",
     "typedWidgetInfo": {
      "autoCreated": false,
      "defaultValue": "navaneeth_bronze",
      "label": "schema",
      "name": "schema",
      "options": {
       "widgetDisplayType": "Text",
       "validationRegex": null
      },
      "parameterDataType": "String"
     },
     "widgetInfo": {
      "widgetType": "text",
      "defaultValue": "navaneeth_bronze",
      "label": "schema",
      "name": "schema",
      "options": {
       "widgetType": "text",
       "autoCreated": null,
       "validationRegex": null
      }
     }
    },
    "table": {
     "currentValue": "products",
     "nuid": "dbc1802c-bfd1-465a-98de-af1505940add",
     "typedWidgetInfo": {
      "autoCreated": false,
      "defaultValue": "sales",
      "label": "table",
      "name": "table",
      "options": {
       "widgetDisplayType": "Text",
       "validationRegex": null
      },
      "parameterDataType": "String"
     },
     "widgetInfo": {
      "widgetType": "text",
      "defaultValue": "sales",
      "label": "table",
      "name": "table",
      "options": {
       "widgetType": "text",
       "autoCreated": null,
       "validationRegex": null
      }
     }
    }
   }
  },
  "language_info": {
   "name": "python"
  }
 },
 "nbformat": 4,
 "nbformat_minor": 0
}
