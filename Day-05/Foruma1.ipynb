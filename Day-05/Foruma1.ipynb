{
 "cells": [
  {
   "cell_type": "markdown",
   "metadata": {
    "application/vnd.databricks.v1+cell": {
     "cellMetadata": {
      "byteLimit": 2048000,
      "rowLimit": 10000
     },
     "inputWidgets": {},
     "nuid": "92db11a9-79c7-410b-b643-669664128d2b",
     "showTitle": false,
     "tableResultSettingsMap": {},
     "title": ""
    }
   },
   "source": [
    "## Formula1 Data loading\n",
    "- Ingest four tables in to Bronze schema add ingestion date column"
   ]
  },
  {
   "cell_type": "code",
   "execution_count": 0,
   "metadata": {
    "application/vnd.databricks.v1+cell": {
     "cellMetadata": {
      "byteLimit": 2048000,
      "rowLimit": 10000
     },
     "inputWidgets": {},
     "nuid": "f6670bdb-cd19-4791-93a6-91e9e3c15cfc",
     "showTitle": false,
     "tableResultSettingsMap": {},
     "title": ""
    }
   },
   "outputs": [],
   "source": [
    "from pyspark.sql.functions import *"
   ]
  },
  {
   "cell_type": "code",
   "execution_count": 0,
   "metadata": {
    "application/vnd.databricks.v1+cell": {
     "cellMetadata": {
      "byteLimit": 2048000,
      "rowLimit": 10000
     },
     "inputWidgets": {},
     "nuid": "130c4872-42e9-4e25-a585-b1299f01a891",
     "showTitle": false,
     "tableResultSettingsMap": {},
     "title": ""
    }
   },
   "outputs": [],
   "source": [
    "catalog = \"cgi_dev\"\n",
    "bronze_schema = \"navaneeth_bronze\"\n",
    "silver_schema = \"navaneeth_silver\"\n",
    "\n",
    "file_path_drivers=\"/Volumes/cgi_dev/naval/formula1/drivers.json\"\n",
    "file_path_constructors = \"/Volumes/cgi_dev/naval/formula1/constructors.json\"\n",
    "file_path_pit_stops = \"/Volumes/cgi_dev/naval/formula1/pit_stops.json\"\n",
    "file_path_circuts= \"/Volumes/cgi_dev/naval/formula1/circuits.csv\""
   ]
  },
  {
   "cell_type": "markdown",
   "metadata": {
    "application/vnd.databricks.v1+cell": {
     "cellMetadata": {
      "byteLimit": 2048000,
      "rowLimit": 10000
     },
     "inputWidgets": {},
     "nuid": "6f6f5c26-f3cb-4960-870b-142b812080c3",
     "showTitle": false,
     "tableResultSettingsMap": {},
     "title": ""
    }
   },
   "source": [
    "Function to Load JSON file "
   ]
  },
  {
   "cell_type": "code",
   "execution_count": 0,
   "metadata": {
    "application/vnd.databricks.v1+cell": {
     "cellMetadata": {
      "byteLimit": 2048000,
      "rowLimit": 10000
     },
     "inputWidgets": {},
     "nuid": "98a2dd60-3005-4d38-8e5f-eb6f58cd61f3",
     "showTitle": false,
     "tableResultSettingsMap": {},
     "title": ""
    }
   },
   "outputs": [],
   "source": [
    "def read_write_json(file_path, bronze_catalog, bronze_schema, bronze_table_name):\n",
    "    #print(bronze_table_name)\n",
    "    df = spark.read.option(\"multiline\",\"true\").json(file_path).withColumn(\"ingestion_datetime\", current_timestamp()).withColumn(\"path\", col(\"_metadata\"))\n",
    "    df.write.mode(\"overwrite\").saveAsTable(f\"{bronze_catalog}.{bronze_schema}.{bronze_table_name}\")\n",
    "    "
   ]
  },
  {
   "cell_type": "code",
   "execution_count": 0,
   "metadata": {
    "application/vnd.databricks.v1+cell": {
     "cellMetadata": {
      "byteLimit": 2048000,
      "rowLimit": 10000
     },
     "inputWidgets": {},
     "nuid": "344750e3-de91-425a-9f64-8eb3e3650380",
     "showTitle": false,
     "tableResultSettingsMap": {},
     "title": ""
    }
   },
   "outputs": [],
   "source": [
    "read_write_json(file_path_drivers, catalog, bronze_schema, \"drivers\")\n",
    "read_write_json(file_path_constructors, catalog, bronze_schema, \"constructors\")\n",
    "read_write_json(file_path_pit_stops, catalog, bronze_schema, \"pitstops\")"
   ]
  },
  {
   "cell_type": "markdown",
   "metadata": {
    "application/vnd.databricks.v1+cell": {
     "cellMetadata": {
      "byteLimit": 2048000,
      "rowLimit": 10000
     },
     "inputWidgets": {},
     "nuid": "0d45e6c2-f828-45dc-9481-dbd79fcbfbfc",
     "showTitle": false,
     "tableResultSettingsMap": {},
     "title": ""
    }
   },
   "source": [
    "Load CSV file"
   ]
  },
  {
   "cell_type": "code",
   "execution_count": 0,
   "metadata": {
    "application/vnd.databricks.v1+cell": {
     "cellMetadata": {
      "byteLimit": 2048000,
      "rowLimit": 10000
     },
     "inputWidgets": {},
     "nuid": "307375a5-a673-4ca2-9693-b49fddcf57f2",
     "showTitle": false,
     "tableResultSettingsMap": {},
     "title": ""
    }
   },
   "outputs": [],
   "source": [
    "df_circuits = spark.read.csv(file_path_circuts, inferSchema=True, header=True).withColumn(\"ingestion_datetime\", current_timestamp()).withColumn(\"path\", col(\"_metadata\"))\n",
    "df_circuits.write.mode(\"overwrite\").saveAsTable(f\"{catalog}.{bronze_schema}.circuits\")"
   ]
  },
  {
   "cell_type": "markdown",
   "metadata": {
    "application/vnd.databricks.v1+cell": {
     "cellMetadata": {
      "byteLimit": 2048000,
      "rowLimit": 10000
     },
     "inputWidgets": {},
     "nuid": "e1906ce7-2bd7-4862-b4da-4c51230dde2b",
     "showTitle": false,
     "tableResultSettingsMap": {},
     "title": ""
    }
   },
   "source": [
    "Check the record counts in tables"
   ]
  },
  {
   "cell_type": "code",
   "execution_count": 0,
   "metadata": {
    "application/vnd.databricks.v1+cell": {
     "cellMetadata": {
      "byteLimit": 2048000,
      "implicitDf": true,
      "rowLimit": 10000
     },
     "inputWidgets": {},
     "nuid": "6d8d590a-7361-4581-ba69-a5ba83486c42",
     "showTitle": false,
     "tableResultSettingsMap": {},
     "title": ""
    }
   },
   "outputs": [],
   "source": [
    "%sql\n",
    "SELECT \"circuts\" AS table_name, COUNT(1) AS record_count \n",
    "FROM cgi_dev.navaneeth_bronze.circuts\n",
    "UNION ALL\n",
    "SELECT \"drivers\" AS table_name, COUNT(1) AS record_count \n",
    "FROM cgi_dev.navaneeth_bronze.drivers\n",
    "UNION ALL\n",
    "SELECT \"constructors\" AS table_name, COUNT(1) AS record_count \n",
    "FROM cgi_dev.navaneeth_bronze.constructors\n",
    "UNION ALL\n",
    "SELECT \"pitstops\" AS table_name, COUNT(1) AS record_count \n",
    "FROM cgi_dev.navaneeth_bronze.pitstops"
   ]
  },
  {
   "cell_type": "code",
   "execution_count": 0,
   "metadata": {
    "application/vnd.databricks.v1+cell": {
     "cellMetadata": {
      "byteLimit": 2048000,
      "implicitDf": true,
      "rowLimit": 10000
     },
     "inputWidgets": {},
     "nuid": "fdfeb8b2-b0a4-43cf-bc13-d1740391b6aa",
     "showTitle": false,
     "tableResultSettingsMap": {},
     "title": ""
    }
   },
   "outputs": [],
   "source": [
    "%sql\n",
    "Select *,\n",
    "name.forename as forename,\n",
    "name.surname as surname\n",
    " from cgi_dev.navaneeth_bronze.drivers"
   ]
  },
  {
   "cell_type": "code",
   "execution_count": 0,
   "metadata": {
    "application/vnd.databricks.v1+cell": {
     "cellMetadata": {
      "byteLimit": 2048000,
      "rowLimit": 10000
     },
     "inputWidgets": {},
     "nuid": "5694f03f-ce2b-47cb-83e4-461ad4cace45",
     "showTitle": false,
     "tableResultSettingsMap": {},
     "title": ""
    }
   },
   "outputs": [],
   "source": [
    "df_drivers = spark.table(f\"{catalog}.{bronze_schema}.drivers\")\\\n",
    ".withColumn(\"forename\",col(\"name.forename\"))\\\n",
    ".withColumn(\"surname\",col(\"name.surname\"))\\\n",
    "  .drop(\"name\",\"path\",\"ingestion_datetime\")\n",
    "\n",
    "df_drivers.write.mode(\"overwrite\").saveAsTable(f\"{catalog}.{silver_schema}.drivers\")\n"
   ]
  }
 ],
 "metadata": {
  "application/vnd.databricks.v1+notebook": {
   "computePreferences": null,
   "dashboards": [],
   "environmentMetadata": {
    "base_environment": "",
    "environment_version": "2"
   },
   "inputWidgetPreferences": null,
   "language": "python",
   "notebookMetadata": {
    "mostRecentlyExecutedCommandWithImplicitDF": {
     "commandId": 1758486408703663,
     "dataframes": [
      "_sqldf"
     ]
    },
    "pythonIndentUnit": 4
   },
   "notebookName": "Foruma1",
   "widgets": {}
  },
  "language_info": {
   "name": "python"
  }
 },
 "nbformat": 4,
 "nbformat_minor": 0
}
